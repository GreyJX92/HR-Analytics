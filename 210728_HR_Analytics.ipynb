{
  "nbformat": 4,
  "nbformat_minor": 0,
  "metadata": {
    "colab": {
      "name": "210728_HR Analytics.ipynb",
      "provenance": [],
      "collapsed_sections": [],
      "authorship_tag": "ABX9TyN2BUNYhog/mT5hQwlk6t5H",
      "include_colab_link": true
    },
    "kernelspec": {
      "display_name": "Python 3",
      "name": "python3"
    },
    "language_info": {
      "name": "python"
    }
  },
  "cells": [
    {
      "cell_type": "markdown",
      "metadata": {
        "id": "view-in-github",
        "colab_type": "text"
      },
      "source": [
        "<a href=\"https://colab.research.google.com/github/GreyJX92/HR-Analytics/blob/main/210728_HR_Analytics.ipynb\" target=\"_parent\"><img src=\"https://colab.research.google.com/assets/colab-badge.svg\" alt=\"Open In Colab\"/></a>"
      ]
    },
    {
      "cell_type": "code",
      "metadata": {
        "id": "X7G6N5gQ48LW"
      },
      "source": [
        "import pandas as pd\n",
        "import seaborn as sns\n",
        "import numpy as np\n",
        "import matplotlib.pyplot as plt\n"
      ],
      "execution_count": null,
      "outputs": []
    },
    {
      "cell_type": "code",
      "metadata": {
        "id": "loOKVL2TAjCR"
      },
      "source": [
        ""
      ],
      "execution_count": null,
      "outputs": []
    },
    {
      "cell_type": "code",
      "metadata": {
        "id": "XaBrIbk46-2k"
      },
      "source": [
        "df = pd.read_csv(\"https://raw.githubusercontent.com/theleadio/datascience_demo/master/HR_dataset.csv\")"
      ],
      "execution_count": null,
      "outputs": []
    },
    {
      "cell_type": "code",
      "metadata": {
        "colab": {
          "base_uri": "https://localhost:8080/",
          "height": 309
        },
        "id": "mQWPrsV79T4L",
        "outputId": "e33db332-8439-4a76-ea36-683947b9958e"
      },
      "source": [
        "df.head()"
      ],
      "execution_count": null,
      "outputs": [
        {
          "output_type": "execute_result",
          "data": {
            "text/html": [
              "<div>\n",
              "<style scoped>\n",
              "    .dataframe tbody tr th:only-of-type {\n",
              "        vertical-align: middle;\n",
              "    }\n",
              "\n",
              "    .dataframe tbody tr th {\n",
              "        vertical-align: top;\n",
              "    }\n",
              "\n",
              "    .dataframe thead th {\n",
              "        text-align: right;\n",
              "    }\n",
              "</style>\n",
              "<table border=\"1\" class=\"dataframe\">\n",
              "  <thead>\n",
              "    <tr style=\"text-align: right;\">\n",
              "      <th></th>\n",
              "      <th>names</th>\n",
              "      <th>satisfaction_level</th>\n",
              "      <th>last_evaluation</th>\n",
              "      <th>number_project</th>\n",
              "      <th>average_monthly_hours</th>\n",
              "      <th>exp_in_company</th>\n",
              "      <th>work_accident</th>\n",
              "      <th>left</th>\n",
              "      <th>promotion_last_5years</th>\n",
              "      <th>role</th>\n",
              "      <th>salary</th>\n",
              "    </tr>\n",
              "  </thead>\n",
              "  <tbody>\n",
              "    <tr>\n",
              "      <th>0</th>\n",
              "      <td>Jessica Stroud</td>\n",
              "      <td>0.38</td>\n",
              "      <td>0.53</td>\n",
              "      <td>2</td>\n",
              "      <td>157</td>\n",
              "      <td>3</td>\n",
              "      <td>0</td>\n",
              "      <td>1</td>\n",
              "      <td>0</td>\n",
              "      <td>sales</td>\n",
              "      <td>low</td>\n",
              "    </tr>\n",
              "    <tr>\n",
              "      <th>1</th>\n",
              "      <td>Daryl Fields</td>\n",
              "      <td>0.80</td>\n",
              "      <td>0.86</td>\n",
              "      <td>5</td>\n",
              "      <td>262</td>\n",
              "      <td>6</td>\n",
              "      <td>0</td>\n",
              "      <td>1</td>\n",
              "      <td>0</td>\n",
              "      <td>sales</td>\n",
              "      <td>medium</td>\n",
              "    </tr>\n",
              "    <tr>\n",
              "      <th>2</th>\n",
              "      <td>Daisy Anderson</td>\n",
              "      <td>0.11</td>\n",
              "      <td>0.88</td>\n",
              "      <td>7</td>\n",
              "      <td>272</td>\n",
              "      <td>4</td>\n",
              "      <td>0</td>\n",
              "      <td>1</td>\n",
              "      <td>0</td>\n",
              "      <td>sales</td>\n",
              "      <td>medium</td>\n",
              "    </tr>\n",
              "    <tr>\n",
              "      <th>3</th>\n",
              "      <td>Joseph Fernandez</td>\n",
              "      <td>0.72</td>\n",
              "      <td>0.87</td>\n",
              "      <td>5</td>\n",
              "      <td>223</td>\n",
              "      <td>5</td>\n",
              "      <td>0</td>\n",
              "      <td>1</td>\n",
              "      <td>0</td>\n",
              "      <td>sales</td>\n",
              "      <td>low</td>\n",
              "    </tr>\n",
              "    <tr>\n",
              "      <th>4</th>\n",
              "      <td>Herbert Moore</td>\n",
              "      <td>0.37</td>\n",
              "      <td>0.52</td>\n",
              "      <td>2</td>\n",
              "      <td>159</td>\n",
              "      <td>3</td>\n",
              "      <td>0</td>\n",
              "      <td>1</td>\n",
              "      <td>0</td>\n",
              "      <td>sales</td>\n",
              "      <td>low</td>\n",
              "    </tr>\n",
              "  </tbody>\n",
              "</table>\n",
              "</div>"
            ],
            "text/plain": [
              "              names  satisfaction_level  ...   role  salary\n",
              "0    Jessica Stroud                0.38  ...  sales     low\n",
              "1      Daryl Fields                0.80  ...  sales  medium\n",
              "2    Daisy Anderson                0.11  ...  sales  medium\n",
              "3  Joseph Fernandez                0.72  ...  sales     low\n",
              "4     Herbert Moore                0.37  ...  sales     low\n",
              "\n",
              "[5 rows x 11 columns]"
            ]
          },
          "metadata": {
            "tags": []
          },
          "execution_count": 4
        }
      ]
    },
    {
      "cell_type": "code",
      "metadata": {
        "colab": {
          "base_uri": "https://localhost:8080/"
        },
        "id": "We8CslbI-rAP",
        "outputId": "de7ba850-ab7f-446e-a42a-0887d7025c64"
      },
      "source": [
        "df.info()"
      ],
      "execution_count": null,
      "outputs": [
        {
          "output_type": "stream",
          "text": [
            "<class 'pandas.core.frame.DataFrame'>\n",
            "RangeIndex: 15000 entries, 0 to 14999\n",
            "Data columns (total 11 columns):\n",
            " #   Column                 Non-Null Count  Dtype  \n",
            "---  ------                 --------------  -----  \n",
            " 0   names                  15000 non-null  object \n",
            " 1   satisfaction_level     15000 non-null  float64\n",
            " 2   last_evaluation        15000 non-null  float64\n",
            " 3   number_project         15000 non-null  int64  \n",
            " 4   average_monthly_hours  15000 non-null  int64  \n",
            " 5   exp_in_company         15000 non-null  int64  \n",
            " 6   work_accident          15000 non-null  int64  \n",
            " 7   left                   15000 non-null  int64  \n",
            " 8   promotion_last_5years  15000 non-null  int64  \n",
            " 9   role                   15000 non-null  object \n",
            " 10  salary                 15000 non-null  object \n",
            "dtypes: float64(2), int64(6), object(3)\n",
            "memory usage: 1.3+ MB\n"
          ],
          "name": "stdout"
        }
      ]
    },
    {
      "cell_type": "code",
      "metadata": {
        "id": "eKbVq1VXGsWo"
      },
      "source": [
        "corr = df.corr()"
      ],
      "execution_count": null,
      "outputs": []
    },
    {
      "cell_type": "code",
      "metadata": {
        "colab": {
          "base_uri": "https://localhost:8080/",
          "height": 297
        },
        "id": "MgQ2ABaEHHZI",
        "outputId": "7d8a11db-d78d-4307-9f1a-671b6e4f20b4"
      },
      "source": [
        "corr"
      ],
      "execution_count": null,
      "outputs": [
        {
          "output_type": "execute_result",
          "data": {
            "text/html": [
              "<div>\n",
              "<style scoped>\n",
              "    .dataframe tbody tr th:only-of-type {\n",
              "        vertical-align: middle;\n",
              "    }\n",
              "\n",
              "    .dataframe tbody tr th {\n",
              "        vertical-align: top;\n",
              "    }\n",
              "\n",
              "    .dataframe thead th {\n",
              "        text-align: right;\n",
              "    }\n",
              "</style>\n",
              "<table border=\"1\" class=\"dataframe\">\n",
              "  <thead>\n",
              "    <tr style=\"text-align: right;\">\n",
              "      <th></th>\n",
              "      <th>satisfaction_level</th>\n",
              "      <th>last_evaluation</th>\n",
              "      <th>number_project</th>\n",
              "      <th>average_monthly_hours</th>\n",
              "      <th>exp_in_company</th>\n",
              "      <th>work_accident</th>\n",
              "      <th>left</th>\n",
              "      <th>promotion_last_5years</th>\n",
              "    </tr>\n",
              "  </thead>\n",
              "  <tbody>\n",
              "    <tr>\n",
              "      <th>satisfaction_level</th>\n",
              "      <td>1.000000</td>\n",
              "      <td>0.105077</td>\n",
              "      <td>-0.142908</td>\n",
              "      <td>-0.020013</td>\n",
              "      <td>-0.100803</td>\n",
              "      <td>0.058673</td>\n",
              "      <td>-0.388225</td>\n",
              "      <td>0.025596</td>\n",
              "    </tr>\n",
              "    <tr>\n",
              "      <th>last_evaluation</th>\n",
              "      <td>0.105077</td>\n",
              "      <td>1.000000</td>\n",
              "      <td>0.349380</td>\n",
              "      <td>0.339770</td>\n",
              "      <td>0.131658</td>\n",
              "      <td>-0.007135</td>\n",
              "      <td>0.006701</td>\n",
              "      <td>-0.008695</td>\n",
              "    </tr>\n",
              "    <tr>\n",
              "      <th>number_project</th>\n",
              "      <td>-0.142908</td>\n",
              "      <td>0.349380</td>\n",
              "      <td>1.000000</td>\n",
              "      <td>0.417232</td>\n",
              "      <td>0.196839</td>\n",
              "      <td>-0.004767</td>\n",
              "      <td>0.023900</td>\n",
              "      <td>-0.006073</td>\n",
              "    </tr>\n",
              "    <tr>\n",
              "      <th>average_monthly_hours</th>\n",
              "      <td>-0.020013</td>\n",
              "      <td>0.339770</td>\n",
              "      <td>0.417232</td>\n",
              "      <td>1.000000</td>\n",
              "      <td>0.127791</td>\n",
              "      <td>-0.010160</td>\n",
              "      <td>0.071353</td>\n",
              "      <td>-0.003550</td>\n",
              "    </tr>\n",
              "    <tr>\n",
              "      <th>exp_in_company</th>\n",
              "      <td>-0.100803</td>\n",
              "      <td>0.131658</td>\n",
              "      <td>0.196839</td>\n",
              "      <td>0.127791</td>\n",
              "      <td>1.000000</td>\n",
              "      <td>0.002092</td>\n",
              "      <td>0.144924</td>\n",
              "      <td>0.067420</td>\n",
              "    </tr>\n",
              "    <tr>\n",
              "      <th>work_accident</th>\n",
              "      <td>0.058673</td>\n",
              "      <td>-0.007135</td>\n",
              "      <td>-0.004767</td>\n",
              "      <td>-0.010160</td>\n",
              "      <td>0.002092</td>\n",
              "      <td>1.000000</td>\n",
              "      <td>-0.154653</td>\n",
              "      <td>0.039249</td>\n",
              "    </tr>\n",
              "    <tr>\n",
              "      <th>left</th>\n",
              "      <td>-0.388225</td>\n",
              "      <td>0.006701</td>\n",
              "      <td>0.023900</td>\n",
              "      <td>0.071353</td>\n",
              "      <td>0.144924</td>\n",
              "      <td>-0.154653</td>\n",
              "      <td>1.000000</td>\n",
              "      <td>-0.061799</td>\n",
              "    </tr>\n",
              "    <tr>\n",
              "      <th>promotion_last_5years</th>\n",
              "      <td>0.025596</td>\n",
              "      <td>-0.008695</td>\n",
              "      <td>-0.006073</td>\n",
              "      <td>-0.003550</td>\n",
              "      <td>0.067420</td>\n",
              "      <td>0.039249</td>\n",
              "      <td>-0.061799</td>\n",
              "      <td>1.000000</td>\n",
              "    </tr>\n",
              "  </tbody>\n",
              "</table>\n",
              "</div>"
            ],
            "text/plain": [
              "                       satisfaction_level  ...  promotion_last_5years\n",
              "satisfaction_level               1.000000  ...               0.025596\n",
              "last_evaluation                  0.105077  ...              -0.008695\n",
              "number_project                  -0.142908  ...              -0.006073\n",
              "average_monthly_hours           -0.020013  ...              -0.003550\n",
              "exp_in_company                  -0.100803  ...               0.067420\n",
              "work_accident                    0.058673  ...               0.039249\n",
              "left                            -0.388225  ...              -0.061799\n",
              "promotion_last_5years            0.025596  ...               1.000000\n",
              "\n",
              "[8 rows x 8 columns]"
            ]
          },
          "metadata": {
            "tags": []
          },
          "execution_count": 4
        }
      ]
    },
    {
      "cell_type": "code",
      "metadata": {
        "colab": {
          "base_uri": "https://localhost:8080/",
          "height": 738
        },
        "id": "gvOL3N4rJ8oC",
        "outputId": "4ecf38ad-f6d0-45d8-919e-fe02a9455c9e"
      },
      "source": [
        "sns.set(rc={'figure.figsize':(12,10)})\n",
        "sns.heatmap(corr,annot=True)\n"
      ],
      "execution_count": null,
      "outputs": [
        {
          "output_type": "execute_result",
          "data": {
            "text/plain": [
              "<matplotlib.axes._subplots.AxesSubplot at 0x7f70da96a090>"
            ]
          },
          "metadata": {
            "tags": []
          },
          "execution_count": 6
        },
        {
          "output_type": "display_data",
          "data": {
            "image/png": "[encoded data removed]",
            "text/plain": [
              "<Figure size 864x720 with 2 Axes>"
            ]
          },
          "metadata": {
            "tags": []
          }
        }
      ]
    },
    {
      "cell_type": "code",
      "metadata": {
        "colab": {
          "base_uri": "https://localhost:8080/",
          "height": 297
        },
        "id": "U9I9WJVDEYiy",
        "outputId": "e229fdc1-54df-4f12-e273-f943f69daa2d"
      },
      "source": [
        "df.describe()"
      ],
      "execution_count": null,
      "outputs": [
        {
          "output_type": "execute_result",
          "data": {
            "text/html": [
              "<div>\n",
              "<style scoped>\n",
              "    .dataframe tbody tr th:only-of-type {\n",
              "        vertical-align: middle;\n",
              "    }\n",
              "\n",
              "    .dataframe tbody tr th {\n",
              "        vertical-align: top;\n",
              "    }\n",
              "\n",
              "    .dataframe thead th {\n",
              "        text-align: right;\n",
              "    }\n",
              "</style>\n",
              "<table border=\"1\" class=\"dataframe\">\n",
              "  <thead>\n",
              "    <tr style=\"text-align: right;\">\n",
              "      <th></th>\n",
              "      <th>satisfaction_level</th>\n",
              "      <th>last_evaluation</th>\n",
              "      <th>number_project</th>\n",
              "      <th>average_monthly_hours</th>\n",
              "      <th>exp_in_company</th>\n",
              "      <th>work_accident</th>\n",
              "      <th>left</th>\n",
              "      <th>promotion_last_5years</th>\n",
              "    </tr>\n",
              "  </thead>\n",
              "  <tbody>\n",
              "    <tr>\n",
              "      <th>count</th>\n",
              "      <td>15000.000000</td>\n",
              "      <td>15000.000000</td>\n",
              "      <td>15000.000000</td>\n",
              "      <td>15000.000000</td>\n",
              "      <td>15000.000000</td>\n",
              "      <td>15000.000000</td>\n",
              "      <td>15000.000000</td>\n",
              "      <td>15000.000000</td>\n",
              "    </tr>\n",
              "    <tr>\n",
              "      <th>mean</th>\n",
              "      <td>0.612847</td>\n",
              "      <td>0.716115</td>\n",
              "      <td>3.803133</td>\n",
              "      <td>201.052400</td>\n",
              "      <td>3.498333</td>\n",
              "      <td>0.144600</td>\n",
              "      <td>0.238133</td>\n",
              "      <td>0.021267</td>\n",
              "    </tr>\n",
              "    <tr>\n",
              "      <th>std</th>\n",
              "      <td>0.248628</td>\n",
              "      <td>0.171171</td>\n",
              "      <td>1.232590</td>\n",
              "      <td>49.942074</td>\n",
              "      <td>1.460139</td>\n",
              "      <td>0.351709</td>\n",
              "      <td>0.425955</td>\n",
              "      <td>0.144277</td>\n",
              "    </tr>\n",
              "    <tr>\n",
              "      <th>min</th>\n",
              "      <td>0.090000</td>\n",
              "      <td>0.360000</td>\n",
              "      <td>2.000000</td>\n",
              "      <td>96.000000</td>\n",
              "      <td>2.000000</td>\n",
              "      <td>0.000000</td>\n",
              "      <td>0.000000</td>\n",
              "      <td>0.000000</td>\n",
              "    </tr>\n",
              "    <tr>\n",
              "      <th>25%</th>\n",
              "      <td>0.440000</td>\n",
              "      <td>0.560000</td>\n",
              "      <td>3.000000</td>\n",
              "      <td>156.000000</td>\n",
              "      <td>3.000000</td>\n",
              "      <td>0.000000</td>\n",
              "      <td>0.000000</td>\n",
              "      <td>0.000000</td>\n",
              "    </tr>\n",
              "    <tr>\n",
              "      <th>50%</th>\n",
              "      <td>0.640000</td>\n",
              "      <td>0.720000</td>\n",
              "      <td>4.000000</td>\n",
              "      <td>200.000000</td>\n",
              "      <td>3.000000</td>\n",
              "      <td>0.000000</td>\n",
              "      <td>0.000000</td>\n",
              "      <td>0.000000</td>\n",
              "    </tr>\n",
              "    <tr>\n",
              "      <th>75%</th>\n",
              "      <td>0.820000</td>\n",
              "      <td>0.870000</td>\n",
              "      <td>5.000000</td>\n",
              "      <td>245.000000</td>\n",
              "      <td>4.000000</td>\n",
              "      <td>0.000000</td>\n",
              "      <td>0.000000</td>\n",
              "      <td>0.000000</td>\n",
              "    </tr>\n",
              "    <tr>\n",
              "      <th>max</th>\n",
              "      <td>1.000000</td>\n",
              "      <td>1.000000</td>\n",
              "      <td>7.000000</td>\n",
              "      <td>310.000000</td>\n",
              "      <td>10.000000</td>\n",
              "      <td>1.000000</td>\n",
              "      <td>1.000000</td>\n",
              "      <td>1.000000</td>\n",
              "    </tr>\n",
              "  </tbody>\n",
              "</table>\n",
              "</div>"
            ],
            "text/plain": [
              "       satisfaction_level  last_evaluation  ...          left  promotion_last_5years\n",
              "count        15000.000000     15000.000000  ...  15000.000000           15000.000000\n",
              "mean             0.612847         0.716115  ...      0.238133               0.021267\n",
              "std              0.248628         0.171171  ...      0.425955               0.144277\n",
              "min              0.090000         0.360000  ...      0.000000               0.000000\n",
              "25%              0.440000         0.560000  ...      0.000000               0.000000\n",
              "50%              0.640000         0.720000  ...      0.000000               0.000000\n",
              "75%              0.820000         0.870000  ...      0.000000               0.000000\n",
              "max              1.000000         1.000000  ...      1.000000               1.000000\n",
              "\n",
              "[8 rows x 8 columns]"
            ]
          },
          "metadata": {
            "tags": []
          },
          "execution_count": 6
        }
      ]
    },
    {
      "cell_type": "code",
      "metadata": {
        "colab": {
          "base_uri": "https://localhost:8080/",
          "height": 612
        },
        "id": "nSJBcmzCLRhA",
        "outputId": "c18e2298-fbad-4373-bf82-da993506ba7f"
      },
      "source": [
        "ax = sns.countplot(x=\"role\", data=df)\n",
        "sns.set(rc={'figure.figsize':(18,10)})"
      ],
      "execution_count": null,
      "outputs": [
        {
          "output_type": "display_data",
          "data": {
            "image/png": "[encoded data removed]",
            "text/plain": [
              "<Figure size 864x720 with 1 Axes>"
            ]
          },
          "metadata": {
            "tags": []
          }
        }
      ]
    },
    {
      "cell_type": "code",
      "metadata": {
        "colab": {
          "base_uri": "https://localhost:8080/",
          "height": 612
        },
        "id": "XMKF5pNOQ9a8",
        "outputId": "e7f30b14-3853-44b8-8eb9-ee17a6eb2f4b"
      },
      "source": [
        "ax = sns.countplot(x=\"role\", hue=\"salary\", data=df)\n",
        "sns.set(rc={'figure.figsize':(20,10)})"
      ],
      "execution_count": null,
      "outputs": [
        {
          "output_type": "display_data",
          "data": {
            "image/png": "[encoded data removed]",
            "text/plain": [
              "<Figure size 1296x720 with 1 Axes>"
            ]
          },
          "metadata": {
            "tags": []
          }
        }
      ]
    },
    {
      "cell_type": "code",
      "metadata": {
        "id": "iW2Ovm54uYPN",
        "colab": {
          "base_uri": "https://localhost:8080/",
          "height": 611
        },
        "outputId": "5d3390b3-c2c6-47ca-a8ad-023ae2f5df63"
      },
      "source": [
        "ax = sns.countplot(x=\"last_evaluation\", hue= \"salary\", data=df)\n",
        "sns.set(rc={'figure.figsize':(22,10)})"
      ],
      "execution_count": null,
      "outputs": [
        {
          "output_type": "display_data",
          "data": {
            "image/png": "[encoded data removed]",
            "text/plain": [
              "<Figure size 1440x720 with 1 Axes>"
            ]
          },
          "metadata": {
            "tags": []
          }
        }
      ]
    },
    {
      "cell_type": "code",
      "metadata": {
        "colab": {
          "base_uri": "https://localhost:8080/",
          "height": 587
        },
        "id": "4Gqy0fnqiYvG",
        "outputId": "b841f279-230d-4778-8c9f-48d7d199a45d"
      },
      "source": [
        "ax = sns.countplot(x=\"salary\", hue=\"left\", data=df)"
      ],
      "execution_count": null,
      "outputs": [
        {
          "output_type": "display_data",
          "data": {
            "image/png": "[encoded data removed]",
            "text/plain": [
              "<Figure size 1584x720 with 1 Axes>"
            ]
          },
          "metadata": {
            "tags": []
          }
        }
      ]
    },
    {
      "cell_type": "code",
      "metadata": {
        "colab": {
          "base_uri": "https://localhost:8080/",
          "height": 587
        },
        "id": "k5f1JSg9jHBP",
        "outputId": "5f954a1b-b517-4fa2-e508-833713e1193c"
      },
      "source": [
        "ax = sns.countplot(x=\"number_project\", hue=\"left\", data=df)"
      ],
      "execution_count": null,
      "outputs": [
        {
          "output_type": "display_data",
          "data": {
            "image/png": "[encoded data removed]",
            "text/plain": [
              "<Figure size 1584x720 with 1 Axes>"
            ]
          },
          "metadata": {
            "tags": []
          }
        }
      ]
    },
    {
      "cell_type": "code",
      "metadata": {
        "colab": {
          "base_uri": "https://localhost:8080/",
          "height": 590
        },
        "id": "d0BVohVjjUYO",
        "outputId": "c0f1fe1f-9924-4868-d832-aaaf53c87245"
      },
      "source": [
        "ax = sns.barplot(x=\"role\", y=\"left\", data=df, ci=None)"
      ],
      "execution_count": null,
      "outputs": [
        {
          "output_type": "display_data",
          "data": {
            "image/png": "[encoded data removed]",
            "text/plain": [
              "<Figure size 1584x720 with 1 Axes>"
            ]
          },
          "metadata": {
            "tags": []
          }
        }
      ]
    },
    {
      "cell_type": "code",
      "metadata": {
        "colab": {
          "base_uri": "https://localhost:8080/",
          "height": 365
        },
        "id": "OBZ8mm2HlhFz",
        "outputId": "15b27106-0752-4b36-9775-dfe794299001"
      },
      "source": [
        "ax = sns.displot(x=\"last_evaluation\", hue=\"left\", data=df)\n"
      ],
      "execution_count": null,
      "outputs": [
        {
          "output_type": "display_data",
          "data": {
            "image/png": "[encoded data removed]",
            "text/plain": [
              "<Figure size 406.6x360 with 1 Axes>"
            ]
          },
          "metadata": {
            "tags": []
          }
        }
      ]
    },
    {
      "cell_type": "code",
      "metadata": {
        "id": "bhVmEQNtRhum"
      },
      "source": [
        "from sklearn.model_selection import train_test_split\n",
        "\n",
        "from sklearn.linear_model import LogisticRegression\n",
        "\n",
        "from sklearn.metrics import accuracy_score"
      ],
      "execution_count": null,
      "outputs": []
    },
    {
      "cell_type": "code",
      "metadata": {
        "id": "2Tt-QKF6S6WU"
      },
      "source": [
        "inputs = ['satisfaction_level', 'number_project']"
      ],
      "execution_count": null,
      "outputs": []
    },
    {
      "cell_type": "code",
      "metadata": {
        "id": "qxBnTuLJWOLL"
      },
      "source": [
        "X=df[inputs]\n",
        "y=df['left']"
      ],
      "execution_count": null,
      "outputs": []
    },
    {
      "cell_type": "code",
      "metadata": {
        "id": "IQpCOtgjWUIL"
      },
      "source": [
        "X_train, X_test, y_train, y_test =  train_test_split(X, y, test_size=0.3, random_state = 1 )"
      ],
      "execution_count": null,
      "outputs": []
    },
    {
      "cell_type": "code",
      "metadata": {
        "colab": {
          "base_uri": "https://localhost:8080/"
        },
        "id": "hWrIFRyRWUPc",
        "outputId": "e3f70205-5d07-4d15-888f-843c83477ddf"
      },
      "source": [
        "logmodel = LogisticRegression() # to initialise the model\n",
        "logmodel.fit(X_train, y_train) # to build the model"
      ],
      "execution_count": null,
      "outputs": [
        {
          "output_type": "execute_result",
          "data": {
            "text/plain": [
              "LogisticRegression(C=1.0, class_weight=None, dual=False, fit_intercept=True,\n",
              "                   intercept_scaling=1, l1_ratio=None, max_iter=100,\n",
              "                   multi_class='auto', n_jobs=None, penalty='l2',\n",
              "                   random_state=None, solver='lbfgs', tol=0.0001, verbose=0,\n",
              "                   warm_start=False)"
            ]
          },
          "metadata": {
            "tags": []
          },
          "execution_count": 8
        }
      ]
    },
    {
      "cell_type": "code",
      "metadata": {
        "id": "TFtfg7h4ZMBQ"
      },
      "source": [
        "predictions = logmodel.predict(X_test)"
      ],
      "execution_count": null,
      "outputs": []
    },
    {
      "cell_type": "code",
      "metadata": {
        "colab": {
          "base_uri": "https://localhost:8080/"
        },
        "id": "gcjP8RujZoew",
        "outputId": "841b57fb-01d2-4729-85df-21237a46631d"
      },
      "source": [
        "accuracy_score(y_test, predictions)"
      ],
      "execution_count": null,
      "outputs": [
        {
          "output_type": "execute_result",
          "data": {
            "text/plain": [
              "0.7695555555555555"
            ]
          },
          "metadata": {
            "tags": []
          },
          "execution_count": 10
        }
      ]
    },
    {
      "cell_type": "code",
      "metadata": {
        "colab": {
          "base_uri": "https://localhost:8080/",
          "height": 609
        },
        "id": "7-zwLXx1Zxs-",
        "outputId": "11808d90-8d55-4e3f-b730-a8588175f0d2"
      },
      "source": [
        "predict = pd.read_csv(\"https://raw.githubusercontent.com/theleadio/datascience_demo/master/hr_predict.csv\")\n",
        "\n",
        "X_predict = predict[inputs]\n",
        "\n",
        "predictions = logmodel.predict(X_predict)\n",
        "predict['left_predict'] = predictions\n",
        "# create new column\n",
        "predict\n",
        "\n",
        "#predict unseen data"
      ],
      "execution_count": null,
      "outputs": [
        {
          "output_type": "execute_result",
          "data": {
            "text/html": [
              "<div>\n",
              "<style scoped>\n",
              "    .dataframe tbody tr th:only-of-type {\n",
              "        vertical-align: middle;\n",
              "    }\n",
              "\n",
              "    .dataframe tbody tr th {\n",
              "        vertical-align: top;\n",
              "    }\n",
              "\n",
              "    .dataframe thead th {\n",
              "        text-align: right;\n",
              "    }\n",
              "</style>\n",
              "<table border=\"1\" class=\"dataframe\">\n",
              "  <thead>\n",
              "    <tr style=\"text-align: right;\">\n",
              "      <th></th>\n",
              "      <th>id</th>\n",
              "      <th>names</th>\n",
              "      <th>satisfaction_level</th>\n",
              "      <th>last_evaluation</th>\n",
              "      <th>number_project</th>\n",
              "      <th>average_monthly_hours</th>\n",
              "      <th>exp_in_company</th>\n",
              "      <th>work_accident</th>\n",
              "      <th>promotion_last_5years</th>\n",
              "      <th>role</th>\n",
              "      <th>salary</th>\n",
              "      <th>salary_class</th>\n",
              "      <th>role_class</th>\n",
              "      <th>left_predict</th>\n",
              "    </tr>\n",
              "  </thead>\n",
              "  <tbody>\n",
              "    <tr>\n",
              "      <th>0</th>\n",
              "      <td>2237</td>\n",
              "      <td>Paul Mathey</td>\n",
              "      <td>0.74</td>\n",
              "      <td>0.72</td>\n",
              "      <td>4</td>\n",
              "      <td>176</td>\n",
              "      <td>3</td>\n",
              "      <td>0</td>\n",
              "      <td>0</td>\n",
              "      <td>sales</td>\n",
              "      <td>low</td>\n",
              "      <td>1</td>\n",
              "      <td>1</td>\n",
              "      <td>0</td>\n",
              "    </tr>\n",
              "    <tr>\n",
              "      <th>1</th>\n",
              "      <td>8127</td>\n",
              "      <td>Shawn Torres</td>\n",
              "      <td>0.72</td>\n",
              "      <td>0.88</td>\n",
              "      <td>3</td>\n",
              "      <td>224</td>\n",
              "      <td>3</td>\n",
              "      <td>0</td>\n",
              "      <td>0</td>\n",
              "      <td>technical</td>\n",
              "      <td>low</td>\n",
              "      <td>1</td>\n",
              "      <td>2</td>\n",
              "      <td>0</td>\n",
              "    </tr>\n",
              "    <tr>\n",
              "      <th>2</th>\n",
              "      <td>8146</td>\n",
              "      <td>Emily Staples</td>\n",
              "      <td>0.52</td>\n",
              "      <td>0.67</td>\n",
              "      <td>4</td>\n",
              "      <td>216</td>\n",
              "      <td>3</td>\n",
              "      <td>0</td>\n",
              "      <td>0</td>\n",
              "      <td>support</td>\n",
              "      <td>medium</td>\n",
              "      <td>2</td>\n",
              "      <td>3</td>\n",
              "      <td>0</td>\n",
              "    </tr>\n",
              "    <tr>\n",
              "      <th>3</th>\n",
              "      <td>14441</td>\n",
              "      <td>Jean Salazar</td>\n",
              "      <td>0.42</td>\n",
              "      <td>0.47</td>\n",
              "      <td>2</td>\n",
              "      <td>159</td>\n",
              "      <td>3</td>\n",
              "      <td>0</td>\n",
              "      <td>0</td>\n",
              "      <td>marketing</td>\n",
              "      <td>low</td>\n",
              "      <td>1</td>\n",
              "      <td>6</td>\n",
              "      <td>0</td>\n",
              "    </tr>\n",
              "    <tr>\n",
              "      <th>4</th>\n",
              "      <td>11909</td>\n",
              "      <td>Javier Folse</td>\n",
              "      <td>0.85</td>\n",
              "      <td>0.58</td>\n",
              "      <td>4</td>\n",
              "      <td>186</td>\n",
              "      <td>7</td>\n",
              "      <td>0</td>\n",
              "      <td>0</td>\n",
              "      <td>sales</td>\n",
              "      <td>medium</td>\n",
              "      <td>2</td>\n",
              "      <td>1</td>\n",
              "      <td>0</td>\n",
              "    </tr>\n",
              "    <tr>\n",
              "      <th>...</th>\n",
              "      <td>...</td>\n",
              "      <td>...</td>\n",
              "      <td>...</td>\n",
              "      <td>...</td>\n",
              "      <td>...</td>\n",
              "      <td>...</td>\n",
              "      <td>...</td>\n",
              "      <td>...</td>\n",
              "      <td>...</td>\n",
              "      <td>...</td>\n",
              "      <td>...</td>\n",
              "      <td>...</td>\n",
              "      <td>...</td>\n",
              "      <td>...</td>\n",
              "    </tr>\n",
              "    <tr>\n",
              "      <th>95</th>\n",
              "      <td>12162</td>\n",
              "      <td>Robert Davis</td>\n",
              "      <td>0.45</td>\n",
              "      <td>0.51</td>\n",
              "      <td>2</td>\n",
              "      <td>147</td>\n",
              "      <td>3</td>\n",
              "      <td>0</td>\n",
              "      <td>0</td>\n",
              "      <td>sales</td>\n",
              "      <td>low</td>\n",
              "      <td>1</td>\n",
              "      <td>1</td>\n",
              "      <td>0</td>\n",
              "    </tr>\n",
              "    <tr>\n",
              "      <th>96</th>\n",
              "      <td>14646</td>\n",
              "      <td>Kevin Reid</td>\n",
              "      <td>0.41</td>\n",
              "      <td>0.47</td>\n",
              "      <td>2</td>\n",
              "      <td>135</td>\n",
              "      <td>3</td>\n",
              "      <td>0</td>\n",
              "      <td>0</td>\n",
              "      <td>support</td>\n",
              "      <td>low</td>\n",
              "      <td>1</td>\n",
              "      <td>3</td>\n",
              "      <td>0</td>\n",
              "    </tr>\n",
              "    <tr>\n",
              "      <th>97</th>\n",
              "      <td>10385</td>\n",
              "      <td>Mary Valdez</td>\n",
              "      <td>0.99</td>\n",
              "      <td>0.50</td>\n",
              "      <td>4</td>\n",
              "      <td>173</td>\n",
              "      <td>3</td>\n",
              "      <td>0</td>\n",
              "      <td>0</td>\n",
              "      <td>management</td>\n",
              "      <td>low</td>\n",
              "      <td>1</td>\n",
              "      <td>11</td>\n",
              "      <td>0</td>\n",
              "    </tr>\n",
              "    <tr>\n",
              "      <th>98</th>\n",
              "      <td>9524</td>\n",
              "      <td>William Jaeger</td>\n",
              "      <td>0.74</td>\n",
              "      <td>0.55</td>\n",
              "      <td>5</td>\n",
              "      <td>168</td>\n",
              "      <td>4</td>\n",
              "      <td>0</td>\n",
              "      <td>0</td>\n",
              "      <td>management</td>\n",
              "      <td>low</td>\n",
              "      <td>1</td>\n",
              "      <td>11</td>\n",
              "      <td>0</td>\n",
              "    </tr>\n",
              "    <tr>\n",
              "      <th>99</th>\n",
              "      <td>13936</td>\n",
              "      <td>John Booker</td>\n",
              "      <td>0.16</td>\n",
              "      <td>0.63</td>\n",
              "      <td>6</td>\n",
              "      <td>286</td>\n",
              "      <td>7</td>\n",
              "      <td>0</td>\n",
              "      <td>1</td>\n",
              "      <td>sales</td>\n",
              "      <td>medium</td>\n",
              "      <td>2</td>\n",
              "      <td>1</td>\n",
              "      <td>1</td>\n",
              "    </tr>\n",
              "  </tbody>\n",
              "</table>\n",
              "<p>100 rows × 14 columns</p>\n",
              "</div>"
            ],
            "text/plain": [
              "       id           names  ...  role_class  left_predict\n",
              "0    2237     Paul Mathey  ...           1             0\n",
              "1    8127    Shawn Torres  ...           2             0\n",
              "2    8146   Emily Staples  ...           3             0\n",
              "3   14441    Jean Salazar  ...           6             0\n",
              "4   11909    Javier Folse  ...           1             0\n",
              "..    ...             ...  ...         ...           ...\n",
              "95  12162    Robert Davis  ...           1             0\n",
              "96  14646      Kevin Reid  ...           3             0\n",
              "97  10385     Mary Valdez  ...          11             0\n",
              "98   9524  William Jaeger  ...          11             0\n",
              "99  13936     John Booker  ...           1             1\n",
              "\n",
              "[100 rows x 14 columns]"
            ]
          },
          "metadata": {
            "tags": []
          },
          "execution_count": 14
        }
      ]
    },
    {
      "cell_type": "code",
      "metadata": {
        "id": "P9LdOHn-d7NQ"
      },
      "source": [
        "predict.to_csv(\"final_prediction.csv\")"
      ],
      "execution_count": null,
      "outputs": []
    },
    {
      "cell_type": "code",
      "metadata": {
        "colab": {
          "base_uri": "https://localhost:8080/",
          "height": 609
        },
        "id": "3tOGloSZeIEh",
        "outputId": "c45a4727-5732-4124-dd08-13beb9d6ca68"
      },
      "source": [
        "predictions = logmodel.predict_proba(X_predict)\n",
        "predict['left_predict'] = predictions\n",
        "predict"
      ],
      "execution_count": null,
      "outputs": [
        {
          "output_type": "execute_result",
          "data": {
            "text/html": [
              "<div>\n",
              "<style scoped>\n",
              "    .dataframe tbody tr th:only-of-type {\n",
              "        vertical-align: middle;\n",
              "    }\n",
              "\n",
              "    .dataframe tbody tr th {\n",
              "        vertical-align: top;\n",
              "    }\n",
              "\n",
              "    .dataframe thead th {\n",
              "        text-align: right;\n",
              "    }\n",
              "</style>\n",
              "<table border=\"1\" class=\"dataframe\">\n",
              "  <thead>\n",
              "    <tr style=\"text-align: right;\">\n",
              "      <th></th>\n",
              "      <th>id</th>\n",
              "      <th>names</th>\n",
              "      <th>satisfaction_level</th>\n",
              "      <th>last_evaluation</th>\n",
              "      <th>number_project</th>\n",
              "      <th>average_monthly_hours</th>\n",
              "      <th>exp_in_company</th>\n",
              "      <th>work_accident</th>\n",
              "      <th>promotion_last_5years</th>\n",
              "      <th>role</th>\n",
              "      <th>salary</th>\n",
              "      <th>salary_class</th>\n",
              "      <th>role_class</th>\n",
              "      <th>left_predict</th>\n",
              "    </tr>\n",
              "  </thead>\n",
              "  <tbody>\n",
              "    <tr>\n",
              "      <th>0</th>\n",
              "      <td>2237</td>\n",
              "      <td>Paul Mathey</td>\n",
              "      <td>0.74</td>\n",
              "      <td>0.72</td>\n",
              "      <td>4</td>\n",
              "      <td>176</td>\n",
              "      <td>3</td>\n",
              "      <td>0</td>\n",
              "      <td>0</td>\n",
              "      <td>sales</td>\n",
              "      <td>low</td>\n",
              "      <td>1</td>\n",
              "      <td>1</td>\n",
              "      <td>0.875014</td>\n",
              "    </tr>\n",
              "    <tr>\n",
              "      <th>1</th>\n",
              "      <td>8127</td>\n",
              "      <td>Shawn Torres</td>\n",
              "      <td>0.72</td>\n",
              "      <td>0.88</td>\n",
              "      <td>3</td>\n",
              "      <td>224</td>\n",
              "      <td>3</td>\n",
              "      <td>0</td>\n",
              "      <td>0</td>\n",
              "      <td>technical</td>\n",
              "      <td>low</td>\n",
              "      <td>1</td>\n",
              "      <td>2</td>\n",
              "      <td>0.849910</td>\n",
              "    </tr>\n",
              "    <tr>\n",
              "      <th>2</th>\n",
              "      <td>8146</td>\n",
              "      <td>Emily Staples</td>\n",
              "      <td>0.52</td>\n",
              "      <td>0.67</td>\n",
              "      <td>4</td>\n",
              "      <td>216</td>\n",
              "      <td>3</td>\n",
              "      <td>0</td>\n",
              "      <td>0</td>\n",
              "      <td>support</td>\n",
              "      <td>medium</td>\n",
              "      <td>2</td>\n",
              "      <td>3</td>\n",
              "      <td>0.741755</td>\n",
              "    </tr>\n",
              "    <tr>\n",
              "      <th>3</th>\n",
              "      <td>14441</td>\n",
              "      <td>Jean Salazar</td>\n",
              "      <td>0.42</td>\n",
              "      <td>0.47</td>\n",
              "      <td>2</td>\n",
              "      <td>159</td>\n",
              "      <td>3</td>\n",
              "      <td>0</td>\n",
              "      <td>0</td>\n",
              "      <td>marketing</td>\n",
              "      <td>low</td>\n",
              "      <td>1</td>\n",
              "      <td>6</td>\n",
              "      <td>0.595762</td>\n",
              "    </tr>\n",
              "    <tr>\n",
              "      <th>4</th>\n",
              "      <td>11909</td>\n",
              "      <td>Javier Folse</td>\n",
              "      <td>0.85</td>\n",
              "      <td>0.58</td>\n",
              "      <td>4</td>\n",
              "      <td>186</td>\n",
              "      <td>7</td>\n",
              "      <td>0</td>\n",
              "      <td>0</td>\n",
              "      <td>sales</td>\n",
              "      <td>medium</td>\n",
              "      <td>2</td>\n",
              "      <td>1</td>\n",
              "      <td>0.916177</td>\n",
              "    </tr>\n",
              "    <tr>\n",
              "      <th>...</th>\n",
              "      <td>...</td>\n",
              "      <td>...</td>\n",
              "      <td>...</td>\n",
              "      <td>...</td>\n",
              "      <td>...</td>\n",
              "      <td>...</td>\n",
              "      <td>...</td>\n",
              "      <td>...</td>\n",
              "      <td>...</td>\n",
              "      <td>...</td>\n",
              "      <td>...</td>\n",
              "      <td>...</td>\n",
              "      <td>...</td>\n",
              "      <td>...</td>\n",
              "    </tr>\n",
              "    <tr>\n",
              "      <th>95</th>\n",
              "      <td>12162</td>\n",
              "      <td>Robert Davis</td>\n",
              "      <td>0.45</td>\n",
              "      <td>0.51</td>\n",
              "      <td>2</td>\n",
              "      <td>147</td>\n",
              "      <td>3</td>\n",
              "      <td>0</td>\n",
              "      <td>0</td>\n",
              "      <td>sales</td>\n",
              "      <td>low</td>\n",
              "      <td>1</td>\n",
              "      <td>1</td>\n",
              "      <td>0.624649</td>\n",
              "    </tr>\n",
              "    <tr>\n",
              "      <th>96</th>\n",
              "      <td>14646</td>\n",
              "      <td>Kevin Reid</td>\n",
              "      <td>0.41</td>\n",
              "      <td>0.47</td>\n",
              "      <td>2</td>\n",
              "      <td>135</td>\n",
              "      <td>3</td>\n",
              "      <td>0</td>\n",
              "      <td>0</td>\n",
              "      <td>support</td>\n",
              "      <td>low</td>\n",
              "      <td>1</td>\n",
              "      <td>3</td>\n",
              "      <td>0.585973</td>\n",
              "    </tr>\n",
              "    <tr>\n",
              "      <th>97</th>\n",
              "      <td>10385</td>\n",
              "      <td>Mary Valdez</td>\n",
              "      <td>0.99</td>\n",
              "      <td>0.50</td>\n",
              "      <td>4</td>\n",
              "      <td>173</td>\n",
              "      <td>3</td>\n",
              "      <td>0</td>\n",
              "      <td>0</td>\n",
              "      <td>management</td>\n",
              "      <td>low</td>\n",
              "      <td>1</td>\n",
              "      <td>11</td>\n",
              "      <td>0.950662</td>\n",
              "    </tr>\n",
              "    <tr>\n",
              "      <th>98</th>\n",
              "      <td>9524</td>\n",
              "      <td>William Jaeger</td>\n",
              "      <td>0.74</td>\n",
              "      <td>0.55</td>\n",
              "      <td>5</td>\n",
              "      <td>168</td>\n",
              "      <td>4</td>\n",
              "      <td>0</td>\n",
              "      <td>0</td>\n",
              "      <td>management</td>\n",
              "      <td>low</td>\n",
              "      <td>1</td>\n",
              "      <td>11</td>\n",
              "      <td>0.888667</td>\n",
              "    </tr>\n",
              "    <tr>\n",
              "      <th>99</th>\n",
              "      <td>13936</td>\n",
              "      <td>John Booker</td>\n",
              "      <td>0.16</td>\n",
              "      <td>0.63</td>\n",
              "      <td>6</td>\n",
              "      <td>286</td>\n",
              "      <td>7</td>\n",
              "      <td>0</td>\n",
              "      <td>1</td>\n",
              "      <td>sales</td>\n",
              "      <td>medium</td>\n",
              "      <td>2</td>\n",
              "      <td>1</td>\n",
              "      <td>0.464940</td>\n",
              "    </tr>\n",
              "  </tbody>\n",
              "</table>\n",
              "<p>100 rows × 14 columns</p>\n",
              "</div>"
            ],
            "text/plain": [
              "       id           names  ...  role_class  left_predict\n",
              "0    2237     Paul Mathey  ...           1      0.875014\n",
              "1    8127    Shawn Torres  ...           2      0.849910\n",
              "2    8146   Emily Staples  ...           3      0.741755\n",
              "3   14441    Jean Salazar  ...           6      0.595762\n",
              "4   11909    Javier Folse  ...           1      0.916177\n",
              "..    ...             ...  ...         ...           ...\n",
              "95  12162    Robert Davis  ...           1      0.624649\n",
              "96  14646      Kevin Reid  ...           3      0.585973\n",
              "97  10385     Mary Valdez  ...          11      0.950662\n",
              "98   9524  William Jaeger  ...          11      0.888667\n",
              "99  13936     John Booker  ...           1      0.464940\n",
              "\n",
              "[100 rows x 14 columns]"
            ]
          },
          "metadata": {
            "tags": []
          },
          "execution_count": 18
        }
      ]
    },
    {
      "cell_type": "code",
      "metadata": {
        "colab": {
          "base_uri": "https://localhost:8080/"
        },
        "id": "U67BBqeLjd-B",
        "outputId": "307c8e13-0088-4d49-e79c-e08631f6b755"
      },
      "source": [
        "predictions = logmodel.predict_proba(X_predict)\n",
        "predictions"
      ],
      "execution_count": null,
      "outputs": [
        {
          "output_type": "execute_result",
          "data": {
            "text/plain": [
              "array([[0.8750145 , 0.1249855 ],\n",
              "       [0.84991017, 0.15008983],\n",
              "       [0.74175536, 0.25824464],\n",
              "       [0.59576239, 0.40423761],\n",
              "       [0.91617745, 0.08382255],\n",
              "       [0.86111145, 0.13888855],\n",
              "       [0.92780798, 0.07219202],\n",
              "       [0.42024187, 0.57975813],\n",
              "       [0.46494023, 0.53505977],\n",
              "       [0.5361513 , 0.4638487 ],\n",
              "       [0.9192355 , 0.0807645 ],\n",
              "       [0.89838084, 0.10161916],\n",
              "       [0.92715815, 0.07284185],\n",
              "       [0.42777241, 0.57222759],\n",
              "       [0.77694212, 0.22305788],\n",
              "       [0.87937656, 0.12062344],\n",
              "       [0.93494922, 0.06505078],\n",
              "       [0.95296214, 0.04703786],\n",
              "       [0.8573824 , 0.1426176 ],\n",
              "       [0.93849416, 0.06150584],\n",
              "       [0.91053428, 0.08946572],\n",
              "       [0.90718004, 0.09281996],\n",
              "       [0.63409532, 0.36590468],\n",
              "       [0.95474449, 0.04525551],\n",
              "       [0.8877073 , 0.1122927 ],\n",
              "       [0.44724669, 0.55275331],\n",
              "       [0.58597292, 0.41402708],\n",
              "       [0.87395401, 0.12604599],\n",
              "       [0.84718919, 0.15281081],\n",
              "       [0.7339224 , 0.2660776 ],\n",
              "       [0.75518206, 0.24481794],\n",
              "       [0.8992595 , 0.1007405 ],\n",
              "       [0.9467214 , 0.0532786 ],\n",
              "       [0.9257152 , 0.0742848 ],\n",
              "       [0.84991017, 0.15008983],\n",
              "       [0.78551389, 0.21448611],\n",
              "       [0.90013141, 0.09986859],\n",
              "       [0.86340644, 0.13659356],\n",
              "       [0.74175536, 0.25824464],\n",
              "       [0.60547622, 0.39452378],\n",
              "       [0.79884431, 0.20115569],\n",
              "       [0.80375363, 0.19624637],\n",
              "       [0.93611464, 0.06388536],\n",
              "       [0.88674057, 0.11325943],\n",
              "       [0.56619625, 0.43380375],\n",
              "       [0.89370935, 0.10629065],\n",
              "       [0.90894762, 0.09105238],\n",
              "       [0.93109637, 0.06890363],\n",
              "       [0.83508013, 0.16491987],\n",
              "       [0.92715815, 0.07284185],\n",
              "       [0.83508013, 0.16491987],\n",
              "       [0.73580488, 0.26419512],\n",
              "       [0.81621566, 0.18378434],\n",
              "       [0.8992595 , 0.1007405 ],\n",
              "       [0.84867351, 0.15132649],\n",
              "       [0.74360179, 0.25639821],\n",
              "       [0.57611506, 0.42388494],\n",
              "       [0.59576239, 0.40423761],\n",
              "       [0.93793409, 0.06206591],\n",
              "       [0.55338084, 0.44661916],\n",
              "       [0.8003924 , 0.1996076 ],\n",
              "       [0.84991017, 0.15008983],\n",
              "       [0.92149535, 0.07850465],\n",
              "       [0.63633411, 0.36366589],\n",
              "       [0.87051792, 0.12948208],\n",
              "       [0.93183125, 0.06816875],\n",
              "       [0.94872749, 0.05127251],\n",
              "       [0.39557253, 0.60442747],\n",
              "       [0.75339137, 0.24660863],\n",
              "       [0.29576162, 0.70423838],\n",
              "       [0.93736925, 0.06263075],\n",
              "       [0.83640646, 0.16359354],\n",
              "       [0.93915529, 0.06084471],\n",
              "       [0.60547622, 0.39452378],\n",
              "       [0.92984628, 0.07015372],\n",
              "       [0.8877073 , 0.1122927 ],\n",
              "       [0.95474449, 0.04525551],\n",
              "       [0.95850392, 0.04149608],\n",
              "       [0.79225798, 0.20774202],\n",
              "       [0.54620649, 0.45379351],\n",
              "       [0.76779929, 0.23220071],\n",
              "       [0.78388157, 0.21611843],\n",
              "       [0.70111812, 0.29888188],\n",
              "       [0.95252715, 0.04747285],\n",
              "       [0.85619689, 0.14380311],\n",
              "       [0.41509214, 0.58490786],\n",
              "       [0.69050243, 0.30949757],\n",
              "       [0.92288191, 0.07711809],\n",
              "       [0.86340644, 0.13659356],\n",
              "       [0.40529491, 0.59470509],\n",
              "       [0.93109637, 0.06890363],\n",
              "       [0.4851354 , 0.5148646 ],\n",
              "       [0.41509214, 0.58490786],\n",
              "       [0.77694212, 0.22305788],\n",
              "       [0.92984628, 0.07015372],\n",
              "       [0.6246493 , 0.3753507 ],\n",
              "       [0.58597292, 0.41402708],\n",
              "       [0.95066199, 0.04933801],\n",
              "       [0.88866681, 0.11133319],\n",
              "       [0.46494023, 0.53505977]])"
            ]
          },
          "metadata": {
            "tags": []
          },
          "execution_count": 20
        }
      ]
    },
    {
      "cell_type": "code",
      "metadata": {
        "colab": {
          "base_uri": "https://localhost:8080/",
          "height": 309
        },
        "id": "qj090PiYj1Cv",
        "outputId": "5c6d3e32-b7d5-46d0-bf8a-9c86a4a072ce"
      },
      "source": [
        "predictions = logmodel.predict_proba(X_predict)\n",
        "left_proba, stay_proba = predictions.T\n",
        "predict['left_ratio'] = left_proba\n",
        "predict['stay_ratio'] = stay_proba\n",
        "predict.head()"
      ],
      "execution_count": null,
      "outputs": [
        {
          "output_type": "execute_result",
          "data": {
            "text/html": [
              "<div>\n",
              "<style scoped>\n",
              "    .dataframe tbody tr th:only-of-type {\n",
              "        vertical-align: middle;\n",
              "    }\n",
              "\n",
              "    .dataframe tbody tr th {\n",
              "        vertical-align: top;\n",
              "    }\n",
              "\n",
              "    .dataframe thead th {\n",
              "        text-align: right;\n",
              "    }\n",
              "</style>\n",
              "<table border=\"1\" class=\"dataframe\">\n",
              "  <thead>\n",
              "    <tr style=\"text-align: right;\">\n",
              "      <th></th>\n",
              "      <th>id</th>\n",
              "      <th>names</th>\n",
              "      <th>satisfaction_level</th>\n",
              "      <th>last_evaluation</th>\n",
              "      <th>number_project</th>\n",
              "      <th>average_monthly_hours</th>\n",
              "      <th>exp_in_company</th>\n",
              "      <th>work_accident</th>\n",
              "      <th>promotion_last_5years</th>\n",
              "      <th>role</th>\n",
              "      <th>salary</th>\n",
              "      <th>salary_class</th>\n",
              "      <th>role_class</th>\n",
              "      <th>left_predict</th>\n",
              "      <th>left_ratio</th>\n",
              "      <th>stay_ratio</th>\n",
              "    </tr>\n",
              "  </thead>\n",
              "  <tbody>\n",
              "    <tr>\n",
              "      <th>0</th>\n",
              "      <td>2237</td>\n",
              "      <td>Paul Mathey</td>\n",
              "      <td>0.74</td>\n",
              "      <td>0.72</td>\n",
              "      <td>4</td>\n",
              "      <td>176</td>\n",
              "      <td>3</td>\n",
              "      <td>0</td>\n",
              "      <td>0</td>\n",
              "      <td>sales</td>\n",
              "      <td>low</td>\n",
              "      <td>1</td>\n",
              "      <td>1</td>\n",
              "      <td>0.875014</td>\n",
              "      <td>0.875014</td>\n",
              "      <td>0.124986</td>\n",
              "    </tr>\n",
              "    <tr>\n",
              "      <th>1</th>\n",
              "      <td>8127</td>\n",
              "      <td>Shawn Torres</td>\n",
              "      <td>0.72</td>\n",
              "      <td>0.88</td>\n",
              "      <td>3</td>\n",
              "      <td>224</td>\n",
              "      <td>3</td>\n",
              "      <td>0</td>\n",
              "      <td>0</td>\n",
              "      <td>technical</td>\n",
              "      <td>low</td>\n",
              "      <td>1</td>\n",
              "      <td>2</td>\n",
              "      <td>0.849910</td>\n",
              "      <td>0.849910</td>\n",
              "      <td>0.150090</td>\n",
              "    </tr>\n",
              "    <tr>\n",
              "      <th>2</th>\n",
              "      <td>8146</td>\n",
              "      <td>Emily Staples</td>\n",
              "      <td>0.52</td>\n",
              "      <td>0.67</td>\n",
              "      <td>4</td>\n",
              "      <td>216</td>\n",
              "      <td>3</td>\n",
              "      <td>0</td>\n",
              "      <td>0</td>\n",
              "      <td>support</td>\n",
              "      <td>medium</td>\n",
              "      <td>2</td>\n",
              "      <td>3</td>\n",
              "      <td>0.741755</td>\n",
              "      <td>0.741755</td>\n",
              "      <td>0.258245</td>\n",
              "    </tr>\n",
              "    <tr>\n",
              "      <th>3</th>\n",
              "      <td>14441</td>\n",
              "      <td>Jean Salazar</td>\n",
              "      <td>0.42</td>\n",
              "      <td>0.47</td>\n",
              "      <td>2</td>\n",
              "      <td>159</td>\n",
              "      <td>3</td>\n",
              "      <td>0</td>\n",
              "      <td>0</td>\n",
              "      <td>marketing</td>\n",
              "      <td>low</td>\n",
              "      <td>1</td>\n",
              "      <td>6</td>\n",
              "      <td>0.595762</td>\n",
              "      <td>0.595762</td>\n",
              "      <td>0.404238</td>\n",
              "    </tr>\n",
              "    <tr>\n",
              "      <th>4</th>\n",
              "      <td>11909</td>\n",
              "      <td>Javier Folse</td>\n",
              "      <td>0.85</td>\n",
              "      <td>0.58</td>\n",
              "      <td>4</td>\n",
              "      <td>186</td>\n",
              "      <td>7</td>\n",
              "      <td>0</td>\n",
              "      <td>0</td>\n",
              "      <td>sales</td>\n",
              "      <td>medium</td>\n",
              "      <td>2</td>\n",
              "      <td>1</td>\n",
              "      <td>0.916177</td>\n",
              "      <td>0.916177</td>\n",
              "      <td>0.083823</td>\n",
              "    </tr>\n",
              "  </tbody>\n",
              "</table>\n",
              "</div>"
            ],
            "text/plain": [
              "      id          names  ...  left_ratio  stay_ratio\n",
              "0   2237    Paul Mathey  ...    0.875014    0.124986\n",
              "1   8127   Shawn Torres  ...    0.849910    0.150090\n",
              "2   8146  Emily Staples  ...    0.741755    0.258245\n",
              "3  14441   Jean Salazar  ...    0.595762    0.404238\n",
              "4  11909   Javier Folse  ...    0.916177    0.083823\n",
              "\n",
              "[5 rows x 16 columns]"
            ]
          },
          "metadata": {
            "tags": []
          },
          "execution_count": 22
        }
      ]
    }
  ]
}